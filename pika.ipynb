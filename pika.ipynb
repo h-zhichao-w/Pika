{
 "nbformat": 4,
 "nbformat_minor": 0,
 "metadata": {
  "colab": {
   "provenance": []
  },
  "kernelspec": {
   "name": "python3",
   "language": "python",
   "display_name": "Python 3 (ipykernel)"
  },
  "language_info": {
   "name": "python"
  }
 },
 "cells": [
  {
   "cell_type": "code",
   "source": [
    "# 字符串转二进制\n",
    "def str_2_bin(str):\n",
    "    # 输出仍以字符串的形式输出\n",
    "    return ' '.join([bin(ord(c)).replace('0b', '') for c in str])\n",
    "\n",
    "# 二进制转字符串\n",
    "def bin_2_str(bin):\n",
    "    return ''.join([chr(i) for i in [int(b, 2) for b in bin.split(' ')]])"
   ],
   "metadata": {
    "id": "mao6Yfrnseuk",
    "ExecuteTime": {
     "end_time": "2023-08-25T03:01:21.324460700Z",
     "start_time": "2023-08-25T03:01:21.304043100Z"
    }
   },
   "execution_count": 1,
   "outputs": []
  },
  {
   "cell_type": "code",
   "source": [
    "# 二进制转皮卡丘语\n",
    "def bin2pika(bin):\n",
    "  \"\"\"\n",
    "  :param bin: 二进制字符串\n",
    "  转换规则：0转为\\u200d，1转为\\u200b，空格转为\\u200c\n",
    "  :return: 皮卡丘语（零宽字符）\n",
    "  \"\"\"\n",
    "  pika = ''\n",
    "  for i in bin:\n",
    "    if i == '1':\n",
    "      pika += '\\u200b'\n",
    "    elif i == '0':\n",
    "      pika += '\\u200d'\n",
    "    else:\n",
    "      pika += '\\u200c'\n",
    "  return pika"
   ],
   "metadata": {
    "id": "tP-3hCUFsp2f",
    "ExecuteTime": {
     "end_time": "2023-08-25T03:01:21.324460700Z",
     "start_time": "2023-08-25T03:01:21.315694200Z"
    }
   },
   "execution_count": 2,
   "outputs": []
  },
  {
   "cell_type": "code",
   "source": [
    "# 皮卡丘语转二进制\n",
    "def pika2bin(pika):\n",
    "  \"\"\"\n",
    "  :param pika: 皮卡丘语（字符串）\n",
    "  转换规则：\\u200d转为0，\\u200b转为1，\\u200c转为空格\n",
    "  :return: 二进制字符串\n",
    "  \"\"\"\n",
    "  bin = ''\n",
    "  for i in pika:\n",
    "    if i == '\\u200b':\n",
    "      bin += '1'\n",
    "    elif i == '\\u200c':\n",
    "      bin += ' '\n",
    "    else: bin += '0'\n",
    "  return bin"
   ],
   "metadata": {
    "id": "s-EGucdOtnAi",
    "ExecuteTime": {
     "end_time": "2023-08-25T03:01:21.335555900Z",
     "start_time": "2023-08-25T03:01:21.323950700Z"
    }
   },
   "execution_count": 3,
   "outputs": []
  },
  {
   "cell_type": "code",
   "source": [
    "# 皮卡丘语词典\n",
    "pika_dic = ['皮卡', '皮卡皮', '皮卡皮卡', '皮卡丘']"
   ],
   "metadata": {
    "id": "fNXqiqNBlwtG",
    "ExecuteTime": {
     "end_time": "2023-08-25T03:01:21.335555900Z",
     "start_time": "2023-08-25T03:01:21.327712900Z"
    }
   },
   "execution_count": 4,
   "outputs": []
  },
  {
   "cell_type": "code",
   "source": [
    "import random\n",
    "\n",
    "# 人类语言转皮卡丘语\n",
    "def h2pika(h):\n",
    "  pika = ''\n",
    "  \n",
    "  # 先将字符串转为二进制，再转为皮卡丘语前缀中的零宽字符\n",
    "  bin = str_2_bin(h)\n",
    "  pika += bin2pika(bin)\n",
    "  \n",
    "  # 皮卡丘语前缀后面的部分\n",
    "  l = len(h)\n",
    "  while True:\n",
    "    # 少于四个字时，直接转为对应长度的皮卡丘语\n",
    "    if l <= 2:\n",
    "      pika += '皮卡 '\n",
    "    elif l <= 3:\n",
    "      pika += '皮卡皮 '\n",
    "    elif l <= 4:\n",
    "      pika += '皮卡皮卡 '\n",
    "    # 多于四个字时，随机选择皮卡丘语\n",
    "    l -= 4\n",
    "    if l > 0:\n",
    "      n = random.randint(0, 3)\n",
    "      pika += (pika_dic[n] + ' ')\n",
    "    else:\n",
    "      break\n",
    "\n",
    "  return pika"
   ],
   "metadata": {
    "id": "ZiCNmJmgofNy",
    "ExecuteTime": {
     "end_time": "2023-08-25T03:01:21.335555900Z",
     "start_time": "2023-08-25T03:01:21.335555900Z"
    }
   },
   "execution_count": 5,
   "outputs": []
  },
  {
   "cell_type": "code",
   "source": [
    "# 零宽字符列表\n",
    "zwsp = ['\\u200b', '\\u200c', '\\u200d']\n",
    "\n",
    "# 皮卡丘语转人类语言\n",
    "def pika2h(pika):\n",
    "  ZW = ''\n",
    "  for i in pika:\n",
    "    if i in zwsp:\n",
    "      ZW += i\n",
    "  bin = pika2bin(ZW)\n",
    "  # print(bin)\n",
    "  h = bin_2_str(bin)\n",
    "\n",
    "  return h"
   ],
   "metadata": {
    "id": "SRDC90wi0BHJ",
    "ExecuteTime": {
     "end_time": "2023-08-25T03:01:21.345616700Z",
     "start_time": "2023-08-25T03:01:21.335555900Z"
    }
   },
   "execution_count": 6,
   "outputs": []
  },
  {
   "cell_type": "code",
   "source": [
    "PIKA = h2pika('加了注释再看一下')\n",
    "print(PIKA)"
   ],
   "metadata": {
    "colab": {
     "base_uri": "https://localhost:8080/"
    },
    "id": "V1ZMoLiU2mzF",
    "outputId": "a3b5b98a-08e6-4938-ddbb-8f5a2bc656d7",
    "ExecuteTime": {
     "end_time": "2023-08-25T03:01:21.357394100Z",
     "start_time": "2023-08-25T03:01:21.339334600Z"
    }
   },
   "execution_count": 7,
   "outputs": [
    {
     "name": "stdout",
     "output_type": "stream",
     "text": [
      "​‍​‍‍​‍​‍​‍‍‍‍‍‌​‍‍​​​‍​‍‍‍‍​​‍‌​​‍​​‍‍​​​‍​‍‍‍‌​‍‍​‍‍‍​​​‍‍​‍​‍‌​‍​‍‍‍​​‍‍‍​​‍​‌​​​‍​​​‍‍‍‍​‍​​‌​‍‍​​​‍‍‍‍‍‍‍‍‍‌​‍‍​​​‍‍‍‍‍​‍​​皮卡 皮卡皮卡 \n"
     ]
    }
   ]
  },
  {
   "cell_type": "code",
   "source": [
    "pika2h(PIKA)"
   ],
   "metadata": {
    "colab": {
     "base_uri": "https://localhost:8080/",
     "height": 35
    },
    "id": "rduXqC1I1VoP",
    "outputId": "d0c015b0-4ffd-49cd-abab-1d9a7c9ecfb8",
    "ExecuteTime": {
     "end_time": "2023-08-25T03:01:21.357394100Z",
     "start_time": "2023-08-25T03:01:21.346524100Z"
    }
   },
   "execution_count": 8,
   "outputs": [
    {
     "data": {
      "text/plain": "'加了注释再看一下'"
     },
     "execution_count": 8,
     "metadata": {},
     "output_type": "execute_result"
    }
   ]
  }
 ]
}
